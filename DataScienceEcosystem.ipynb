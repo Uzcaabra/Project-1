{
 "cells": [
  {
   "cell_type": "markdown",
   "id": "a56651e5-2711-4b63-886f-f646829b66e1",
   "metadata": {},
   "source": [
    "# Data Science Tools and Ecosystem\n"
   ]
  },
  {
   "cell_type": "markdown",
   "id": "f1a7a953-7a55-48af-9316-f70efb90b1e3",
   "metadata": {},
   "source": [
    "## Author\n",
    "Abraham"
   ]
  },
  {
   "cell_type": "markdown",
   "id": "90cb3eef-aee5-4cbf-9a8d-729bda4a1bb4",
   "metadata": {},
   "source": [
    "In this notebook, Data Science Tools and Ecosystem are summarized.\n",
    "\n"
   ]
  },
  {
   "cell_type": "markdown",
   "id": "01aca74b-172e-4063-b0be-d680e0c97623",
   "metadata": {},
   "source": [
    "**Objectives:**\n",
    "- List popular languages for Data Science  \n",
    "- Identify common libraries used in Data Science  \n",
    "- Create and format tables using Markdown  \n",
    "- Understand key Data Science tools and environments  \n",
    "- Learn how to use Jupyter Notebook effectively  "
   ]
  },
  {
   "cell_type": "markdown",
   "id": "65ea4371-0482-472a-9a62-dfa6ac26c40b",
   "metadata": {},
   "source": [
    "## Some of the popular languages that Data Scientists use are:\n",
    "1. Python\n",
    "2. R\n",
    "3. SQL\n"
   ]
  },
  {
   "cell_type": "markdown",
   "id": "66f911ac-669d-4863-9098-fd2ec0293337",
   "metadata": {},
   "source": [
    "## Some of the commonly used libraries used by Data Scientists include:\n",
    "1. Pandas\n",
    "2. Numpy\n",
    "3. Tensor-flow"
   ]
  },
  {
   "cell_type": "markdown",
   "id": "4e87c8e0-d125-4bd4-89f2-4eaa07f6aec3",
   "metadata": {},
   "source": [
    "### Data Science Tools \n",
    "\n",
    "|Data Science Tools|\n",
    "|------------------|\n",
    "| Jupyter Notebook |\n",
    "| R Studio |\n",
    "| Apache Zepellin|"
   ]
  },
  {
   "cell_type": "markdown",
   "id": "02384718-f4ee-4291-88ce-3224dc12467f",
   "metadata": {},
   "source": [
    "### Below are a few examples of evaluating arithmetic expressions in Python"
   ]
  },
  {
   "cell_type": "code",
   "execution_count": 1,
   "id": "6e4fa115-3345-4898-8d32-e3f56dc1ed74",
   "metadata": {},
   "outputs": [
    {
     "data": {
      "text/plain": [
       "17"
      ]
     },
     "execution_count": 1,
     "metadata": {},
     "output_type": "execute_result"
    }
   ],
   "source": [
    "#This a simple arithmetic expression to multiply then add integers\n",
    "\n",
    "(3*4)+5"
   ]
  },
  {
   "cell_type": "code",
   "execution_count": 3,
   "id": "919ca13b-7af5-4028-8f2e-82b8d396f77d",
   "metadata": {},
   "outputs": [
    {
     "data": {
      "text/plain": [
       "3.3333333333333335"
      ]
     },
     "execution_count": 3,
     "metadata": {},
     "output_type": "execute_result"
    }
   ],
   "source": [
    "#This will convert 200 minutes to hours by diving by 60\n",
    "\n",
    "200/60 "
   ]
  },
  {
   "cell_type": "code",
   "execution_count": null,
   "id": "aedd5ab1-f1dd-46f5-a89d-43093b664f66",
   "metadata": {},
   "outputs": [],
   "source": []
  }
 ],
 "metadata": {
  "kernelspec": {
   "display_name": "Python 3 (ipykernel)",
   "language": "python",
   "name": "python3"
  },
  "language_info": {
   "codemirror_mode": {
    "name": "ipython",
    "version": 3
   },
   "file_extension": ".py",
   "mimetype": "text/x-python",
   "name": "python",
   "nbconvert_exporter": "python",
   "pygments_lexer": "ipython3",
   "version": "3.12.8"
  }
 },
 "nbformat": 4,
 "nbformat_minor": 5
}
